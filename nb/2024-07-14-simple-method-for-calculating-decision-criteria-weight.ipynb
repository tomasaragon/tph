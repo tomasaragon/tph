{
 "cells": [
  {
   "cell_type": "markdown",
   "id": "7a7805f0-c875-447e-a0fe-3da23555a955",
   "metadata": {},
   "source": [
    "# Simple method for calculating decision criteria weights\n",
    "Improving human decision intelligence with Julia code  \n",
    "[Tomás Aragón, MD, DrPH](https://substack.com/@tomasaragon)    \n",
    "Jul 14, 2024\n",
    "\n",
    "This is a technical posting using the Julia language. The posting starts at [TEAM Public Health](https://teampublichealth.substack.com/p/simple-method-for-calculating-decision), and finishes here as a [Jupyterlab](https://jupyter.org/) notebook on GitHub. "
   ]
  },
  {
   "cell_type": "markdown",
   "id": "141ff3d4-eb33-421e-ade0-82c415393cb5",
   "metadata": {
    "jp-MarkdownHeadingCollapsed": true
   },
   "source": [
    "### 3.1 Ratio ordinal method in Julia\n",
    "\n",
    "I will demonstrate this method using the Julia language. This method\n",
    "can also be implemented using R, Python, or Microsoft Excel.\n",
    "\n",
    "For rating the cars we have six criteria (attributes) for which we\n",
    "need to calculate weights:\n",
    "\n",
    "1. Color (C)\n",
    "2. Mileage (M)\n",
    "3. Price (P)\n",
    "4. Reliability (R)\n",
    "6. Safety (S)\n",
    "7. Value, resale (V)\n",
    "\n",
    "We have five evaluators that will rank the criteria based on their\n",
    "knowledge, experience, expertise, and wisdom. It is much better for\n",
    "them to rank the criteria independently and without thinking about\n",
    "specific cars, otherwise they may game (bias) the weighting.\n",
    "\n",
    "Here are the steps:\n",
    "\n",
    "1. Select a ranking method to calculate weights for a specific number\n",
    "of criteria, in this case we have six criteria. We will write and use\n",
    "a Julia function that implements the SR method from [Danielson, 2017].\n",
    "2. Have each evaluator independently rank the criteria.\n",
    "3. Use Julia to calculate the final criteria weights. We will use the\n",
    "split-apply-combine workflow that I introduced in a previous blog post\n",
    "and book review [Kaminski, 2023].\n",
    "\n",
    "#### 3.1.1 Step 1: The SR method for generating criteria weights\n",
    "\n",
    "Here is the formula[^1] where $N$\n",
    " is the number of criteria, and $w_i^{SR}$\n",
    " is the weight for the $i^{th}$\n",
    " criterion. [Danielson, 2017]\n",
    "\n",
    "$$\n",
    "w_i^{SR} = \\frac{1/i + \\frac{N+1-i}{N}} {\\sum_{j=1}^N\n",
    "                        \\left(\\frac{N+1-i}{N}\\right)}\n",
    "$$\n",
    "\n",
    "For this calculation I use the [Julia\n",
    "Language](https://julialang.org/). Julia is as simple to program as\n",
    "Python but with the speed of C++. These calculations can also be\n",
    "completed in R. \n",
    "\n",
    "---\n",
    "[Danielson, 2017] “Trade-Offs for Ordinal Ranking Methods in Multi-Criteria Decisions.” In Lecture Notes in Business Information Processing, by Mats Danielson and Love Ekenberg. Springer International Publishing, 2017. https://doi.org/10.1007/978-3-319-52624-9_2.\n",
    "\n",
    "[Kamiński, 2023] Kamiński, Bogumił. Julia for Data Analysis. Manning Publications Co, 2023."
   ]
  },
  {
   "cell_type": "code",
   "execution_count": 20,
   "id": "8815222a-587c-45df-9c6b-74afa30238f7",
   "metadata": {},
   "outputs": [
    {
     "data": {
      "text/plain": [
       "6-element Vector{Float64}:\n",
       " 0.3361344537815126\n",
       " 0.22408963585434175\n",
       " 0.1680672268907563\n",
       " 0.12605042016806722\n",
       " 0.0896358543417367\n",
       " 0.05602240896358543"
      ]
     },
     "execution_count": 20,
     "metadata": {},
     "output_type": "execute_result"
    }
   ],
   "source": [
    "using DataFrames\n",
    "using StatsBase\n",
    "function calculate_rank_weights(n::Int64)\n",
    "    num = zeros(n)\n",
    "    for i in 1:n\n",
    "        num[i] = (1/i) + ( (n + 1 - i) / n )\n",
    "    end\n",
    "    wi = num / sum(num)\n",
    "    return wi\n",
    "end\n",
    "wi = calculate_rank_weights(6)"
   ]
  },
  {
   "cell_type": "markdown",
   "id": "8b599841-20ec-4e32-99ae-a1938cf70d5a",
   "metadata": {},
   "source": [
    "The weights sum to 1, as expected."
   ]
  },
  {
   "cell_type": "code",
   "execution_count": 21,
   "id": "9bf4c173-a2bb-4441-a7ce-f3b8cd66946f",
   "metadata": {},
   "outputs": [
    {
     "data": {
      "text/plain": [
       "1.0"
      ]
     },
     "execution_count": 21,
     "metadata": {},
     "output_type": "execute_result"
    }
   ],
   "source": [
    "round(sum(wi))"
   ]
  },
  {
   "cell_type": "markdown",
   "id": "2b00284c-e89e-433b-87fa-b3b365cf2cab",
   "metadata": {},
   "source": [
    "#### 3.1.2 Step 2: Evaluators rank the criteria\n",
    "\n",
    "Five evaluators rank the criteria based on their expertise."
   ]
  },
  {
   "cell_type": "code",
   "execution_count": 22,
   "id": "c19a55be-36e7-4e37-825b-ffca4074196c",
   "metadata": {},
   "outputs": [
    {
     "data": {
      "text/plain": [
       "6-element Vector{String}:\n",
       " \"Safety\"\n",
       " \"Price\"\n",
       " \"Color\"\n",
       " \"Reliability\"\n",
       " \"Mileage\"\n",
       " \"Value\""
      ]
     },
     "execution_count": 22,
     "metadata": {},
     "output_type": "execute_result"
    }
   ],
   "source": [
    "eval1 = [\"Mileage\", \"Color\", \"Price\", \"Safety\", \"Reliability\", \"Value\"]\n",
    "eval2 = [\"Mileage\", \"Color\", \"Safety\", \"Reliability\", \"Value\", \"Price\"]\n",
    "eval3 = [\"Color\", \"Value\", \"Price\", \"Mileage\", \"Reliability\", \"Safety\"]\n",
    "eval4 = [\"Mileage\", \"Value\", \"Color\", \"Safety\", \"Reliability\", \"Price\"]\n",
    "eval5 = [\"Safety\", \"Price\", \"Color\", \"Reliability\", \"Mileage\", \"Value\"]"
   ]
  },
  {
   "cell_type": "markdown",
   "id": "cb412219-eb50-4b97-9ef7-7b3936d7bb12",
   "metadata": {},
   "source": [
    "Next, we organize the evaluator criteria rankings and the SR method criteria weights into a data frame with three columns:\n",
    "\n",
    "- evaluators (optional)\n",
    "- evaluator_rankings (required)\n",
    "- weights (required)"
   ]
  },
  {
   "cell_type": "code",
   "execution_count": 23,
   "id": "7ab12337-efe8-4dfb-b891-07dd7170f517",
   "metadata": {},
   "outputs": [
    {
     "data": {
      "text/html": [
       "<div><div style = \"float: left;\"><span>30×3 DataFrame</span></div><div style = \"float: right;\"><span style = \"font-style: italic;\">5 rows omitted</span></div><div style = \"clear: both;\"></div></div><div class = \"data-frame\" style = \"overflow-x: scroll;\"><table class = \"data-frame\" style = \"margin-bottom: 6px;\"><thead><tr class = \"header\"><th class = \"rowNumber\" style = \"font-weight: bold; text-align: right;\">Row</th><th style = \"text-align: left;\">evaluator</th><th style = \"text-align: left;\">criteria</th><th style = \"text-align: left;\">weight</th></tr><tr class = \"subheader headerLastRow\"><th class = \"rowNumber\" style = \"font-weight: bold; text-align: right;\"></th><th title = \"Any\" style = \"text-align: left;\">Any</th><th title = \"Any\" style = \"text-align: left;\">Any</th><th title = \"Any\" style = \"text-align: left;\">Any</th></tr></thead><tbody><tr><td class = \"rowNumber\" style = \"font-weight: bold; text-align: right;\">1</td><td style = \"text-align: left;\">eval1</td><td style = \"text-align: left;\">Mileage</td><td style = \"text-align: left;\">0.336134</td></tr><tr><td class = \"rowNumber\" style = \"font-weight: bold; text-align: right;\">2</td><td style = \"text-align: left;\">eval1</td><td style = \"text-align: left;\">Color</td><td style = \"text-align: left;\">0.22409</td></tr><tr><td class = \"rowNumber\" style = \"font-weight: bold; text-align: right;\">3</td><td style = \"text-align: left;\">eval1</td><td style = \"text-align: left;\">Price</td><td style = \"text-align: left;\">0.168067</td></tr><tr><td class = \"rowNumber\" style = \"font-weight: bold; text-align: right;\">4</td><td style = \"text-align: left;\">eval1</td><td style = \"text-align: left;\">Safety</td><td style = \"text-align: left;\">0.12605</td></tr><tr><td class = \"rowNumber\" style = \"font-weight: bold; text-align: right;\">5</td><td style = \"text-align: left;\">eval1</td><td style = \"text-align: left;\">Reliability</td><td style = \"text-align: left;\">0.0896359</td></tr><tr><td class = \"rowNumber\" style = \"font-weight: bold; text-align: right;\">6</td><td style = \"text-align: left;\">eval1</td><td style = \"text-align: left;\">Value</td><td style = \"text-align: left;\">0.0560224</td></tr><tr><td class = \"rowNumber\" style = \"font-weight: bold; text-align: right;\">7</td><td style = \"text-align: left;\">eval2</td><td style = \"text-align: left;\">Mileage</td><td style = \"text-align: left;\">0.336134</td></tr><tr><td class = \"rowNumber\" style = \"font-weight: bold; text-align: right;\">8</td><td style = \"text-align: left;\">eval2</td><td style = \"text-align: left;\">Color</td><td style = \"text-align: left;\">0.22409</td></tr><tr><td class = \"rowNumber\" style = \"font-weight: bold; text-align: right;\">9</td><td style = \"text-align: left;\">eval2</td><td style = \"text-align: left;\">Safety</td><td style = \"text-align: left;\">0.168067</td></tr><tr><td class = \"rowNumber\" style = \"font-weight: bold; text-align: right;\">10</td><td style = \"text-align: left;\">eval2</td><td style = \"text-align: left;\">Reliability</td><td style = \"text-align: left;\">0.12605</td></tr><tr><td class = \"rowNumber\" style = \"font-weight: bold; text-align: right;\">11</td><td style = \"text-align: left;\">eval2</td><td style = \"text-align: left;\">Value</td><td style = \"text-align: left;\">0.0896359</td></tr><tr><td class = \"rowNumber\" style = \"font-weight: bold; text-align: right;\">12</td><td style = \"text-align: left;\">eval2</td><td style = \"text-align: left;\">Price</td><td style = \"text-align: left;\">0.0560224</td></tr><tr><td class = \"rowNumber\" style = \"font-weight: bold; text-align: right;\">13</td><td style = \"text-align: left;\">eval3</td><td style = \"text-align: left;\">Color</td><td style = \"text-align: left;\">0.336134</td></tr><tr><td style = \"text-align: right;\">&vellip;</td><td style = \"text-align: right;\">&vellip;</td><td style = \"text-align: right;\">&vellip;</td><td style = \"text-align: right;\">&vellip;</td></tr><tr><td class = \"rowNumber\" style = \"font-weight: bold; text-align: right;\">19</td><td style = \"text-align: left;\">eval4</td><td style = \"text-align: left;\">Mileage</td><td style = \"text-align: left;\">0.336134</td></tr><tr><td class = \"rowNumber\" style = \"font-weight: bold; text-align: right;\">20</td><td style = \"text-align: left;\">eval4</td><td style = \"text-align: left;\">Value</td><td style = \"text-align: left;\">0.22409</td></tr><tr><td class = \"rowNumber\" style = \"font-weight: bold; text-align: right;\">21</td><td style = \"text-align: left;\">eval4</td><td style = \"text-align: left;\">Color</td><td style = \"text-align: left;\">0.168067</td></tr><tr><td class = \"rowNumber\" style = \"font-weight: bold; text-align: right;\">22</td><td style = \"text-align: left;\">eval4</td><td style = \"text-align: left;\">Safety</td><td style = \"text-align: left;\">0.12605</td></tr><tr><td class = \"rowNumber\" style = \"font-weight: bold; text-align: right;\">23</td><td style = \"text-align: left;\">eval4</td><td style = \"text-align: left;\">Reliability</td><td style = \"text-align: left;\">0.0896359</td></tr><tr><td class = \"rowNumber\" style = \"font-weight: bold; text-align: right;\">24</td><td style = \"text-align: left;\">eval4</td><td style = \"text-align: left;\">Price</td><td style = \"text-align: left;\">0.0560224</td></tr><tr><td class = \"rowNumber\" style = \"font-weight: bold; text-align: right;\">25</td><td style = \"text-align: left;\">eval5</td><td style = \"text-align: left;\">Safety</td><td style = \"text-align: left;\">0.336134</td></tr><tr><td class = \"rowNumber\" style = \"font-weight: bold; text-align: right;\">26</td><td style = \"text-align: left;\">eval5</td><td style = \"text-align: left;\">Price</td><td style = \"text-align: left;\">0.22409</td></tr><tr><td class = \"rowNumber\" style = \"font-weight: bold; text-align: right;\">27</td><td style = \"text-align: left;\">eval5</td><td style = \"text-align: left;\">Color</td><td style = \"text-align: left;\">0.168067</td></tr><tr><td class = \"rowNumber\" style = \"font-weight: bold; text-align: right;\">28</td><td style = \"text-align: left;\">eval5</td><td style = \"text-align: left;\">Reliability</td><td style = \"text-align: left;\">0.12605</td></tr><tr><td class = \"rowNumber\" style = \"font-weight: bold; text-align: right;\">29</td><td style = \"text-align: left;\">eval5</td><td style = \"text-align: left;\">Mileage</td><td style = \"text-align: left;\">0.0896359</td></tr><tr><td class = \"rowNumber\" style = \"font-weight: bold; text-align: right;\">30</td><td style = \"text-align: left;\">eval5</td><td style = \"text-align: left;\">Value</td><td style = \"text-align: left;\">0.0560224</td></tr></tbody></table></div>"
      ],
      "text/latex": [
       "\\begin{tabular}{r|ccc}\n",
       "\t& evaluator & criteria & weight\\\\\n",
       "\t\\hline\n",
       "\t& Any & Any & Any\\\\\n",
       "\t\\hline\n",
       "\t1 & eval1 & Mileage & 0.336134 \\\\\n",
       "\t2 & eval1 & Color & 0.22409 \\\\\n",
       "\t3 & eval1 & Price & 0.168067 \\\\\n",
       "\t4 & eval1 & Safety & 0.12605 \\\\\n",
       "\t5 & eval1 & Reliability & 0.0896359 \\\\\n",
       "\t6 & eval1 & Value & 0.0560224 \\\\\n",
       "\t7 & eval2 & Mileage & 0.336134 \\\\\n",
       "\t8 & eval2 & Color & 0.22409 \\\\\n",
       "\t9 & eval2 & Safety & 0.168067 \\\\\n",
       "\t10 & eval2 & Reliability & 0.12605 \\\\\n",
       "\t11 & eval2 & Value & 0.0896359 \\\\\n",
       "\t12 & eval2 & Price & 0.0560224 \\\\\n",
       "\t13 & eval3 & Color & 0.336134 \\\\\n",
       "\t14 & eval3 & Value & 0.22409 \\\\\n",
       "\t15 & eval3 & Price & 0.168067 \\\\\n",
       "\t16 & eval3 & Mileage & 0.12605 \\\\\n",
       "\t17 & eval3 & Reliability & 0.0896359 \\\\\n",
       "\t18 & eval3 & Safety & 0.0560224 \\\\\n",
       "\t19 & eval4 & Mileage & 0.336134 \\\\\n",
       "\t20 & eval4 & Value & 0.22409 \\\\\n",
       "\t21 & eval4 & Color & 0.168067 \\\\\n",
       "\t22 & eval4 & Safety & 0.12605 \\\\\n",
       "\t23 & eval4 & Reliability & 0.0896359 \\\\\n",
       "\t24 & eval4 & Price & 0.0560224 \\\\\n",
       "\t25 & eval5 & Safety & 0.336134 \\\\\n",
       "\t26 & eval5 & Price & 0.22409 \\\\\n",
       "\t27 & eval5 & Color & 0.168067 \\\\\n",
       "\t28 & eval5 & Reliability & 0.12605 \\\\\n",
       "\t29 & eval5 & Mileage & 0.0896359 \\\\\n",
       "\t30 & eval5 & Value & 0.0560224 \\\\\n",
       "\\end{tabular}\n"
      ],
      "text/plain": [
       "\u001b[1m30×3 DataFrame\u001b[0m\n",
       "\u001b[1m Row \u001b[0m│\u001b[1m evaluator \u001b[0m\u001b[1m criteria    \u001b[0m\u001b[1m weight    \u001b[0m\n",
       "     │\u001b[90m Any       \u001b[0m\u001b[90m Any         \u001b[0m\u001b[90m Any       \u001b[0m\n",
       "─────┼───────────────────────────────────\n",
       "   1 │ eval1      Mileage      0.336134\n",
       "   2 │ eval1      Color        0.22409\n",
       "   3 │ eval1      Price        0.168067\n",
       "   4 │ eval1      Safety       0.12605\n",
       "   5 │ eval1      Reliability  0.0896359\n",
       "   6 │ eval1      Value        0.0560224\n",
       "   7 │ eval2      Mileage      0.336134\n",
       "   8 │ eval2      Color        0.22409\n",
       "   9 │ eval2      Safety       0.168067\n",
       "  10 │ eval2      Reliability  0.12605\n",
       "  11 │ eval2      Value        0.0896359\n",
       "  ⋮  │     ⋮           ⋮           ⋮\n",
       "  21 │ eval4      Color        0.168067\n",
       "  22 │ eval4      Safety       0.12605\n",
       "  23 │ eval4      Reliability  0.0896359\n",
       "  24 │ eval4      Price        0.0560224\n",
       "  25 │ eval5      Safety       0.336134\n",
       "  26 │ eval5      Price        0.22409\n",
       "  27 │ eval5      Color        0.168067\n",
       "  28 │ eval5      Reliability  0.12605\n",
       "  29 │ eval5      Mileage      0.0896359\n",
       "  30 │ eval5      Value        0.0560224\n",
       "\u001b[36m                           9 rows omitted\u001b[0m"
      ]
     },
     "execution_count": 23,
     "metadata": {},
     "output_type": "execute_result"
    }
   ],
   "source": [
    "ne = 5; # number of evaluators\n",
    "nc = 6; # number for criteria\n",
    "evaluators = repeat([\"eval\" .* string.(1:ne)...], inner=repeat([nc]))\n",
    "evaluator_rankings = vcat( eval1, eval2, eval3, eval4, eval5 )\n",
    "weights = repeat( wi, ne )\n",
    "df = DataFrame(\n",
    "    hcat(evaluators, evaluator_rankings, weights), \n",
    "    [\"evaluator\", \"criteria\", \"weight\"]\n",
    "    )"
   ]
  },
  {
   "cell_type": "markdown",
   "id": "43a10c07-a8d4-4bf2-a0a6-df854672cd3b",
   "metadata": {},
   "source": [
    "#### 3.1.3 Step 3: Calculate mean criteria weights\n",
    "\n",
    "Calculate mean criteria weights using **split-apply-combine** workflow (Figure 1). In other words, stratifying by one or more criteria,\n",
    "what is the mean weight for each strata (attribute)?\n",
    "\n",
    "<figure>\n",
    "  <img src=\"images/2024-07-14-1-phds_split_apply_combine_workflow.png\" alt=\"split-apply-combine diagram\" width=\"100%\">\n",
    "      <figcaption>Figure 1: The split-apply-combine workflow.</figcaption>\n",
    "</figure>\n",
    "\n",
    "The split-apply-combine is a common workflow in data science.\n"
   ]
  },
  {
   "cell_type": "code",
   "execution_count": 24,
   "id": "812a5333-e6f7-4619-b538-4c5253e7c3b6",
   "metadata": {},
   "outputs": [
    {
     "data": {
      "text/html": [
       "<p><b>GroupedDataFrame with 6 groups based on key: criteria</b></p><div><div style = \"float: left;\"><span>First Group (5 rows): criteria = &quot;Mileage&quot;</span></div><div style = \"clear: both;\"></div></div><div class = \"data-frame\" style = \"overflow-x: scroll;\"><table class = \"data-frame\" style = \"margin-bottom: 6px;\"><thead><tr class = \"header\"><th class = \"rowNumber\" style = \"font-weight: bold; text-align: right;\">Row</th><th style = \"text-align: left;\">evaluator</th><th style = \"text-align: left;\">criteria</th><th style = \"text-align: left;\">weight</th></tr><tr class = \"subheader headerLastRow\"><th class = \"rowNumber\" style = \"font-weight: bold; text-align: right;\"></th><th title = \"Any\" style = \"text-align: left;\">Any</th><th title = \"Any\" style = \"text-align: left;\">Any</th><th title = \"Any\" style = \"text-align: left;\">Any</th></tr></thead><tbody><tr><td class = \"rowNumber\" style = \"font-weight: bold; text-align: right;\">1</td><td style = \"text-align: left;\">eval1</td><td style = \"text-align: left;\">Mileage</td><td style = \"text-align: left;\">0.336134</td></tr><tr><td class = \"rowNumber\" style = \"font-weight: bold; text-align: right;\">2</td><td style = \"text-align: left;\">eval2</td><td style = \"text-align: left;\">Mileage</td><td style = \"text-align: left;\">0.336134</td></tr><tr><td class = \"rowNumber\" style = \"font-weight: bold; text-align: right;\">3</td><td style = \"text-align: left;\">eval3</td><td style = \"text-align: left;\">Mileage</td><td style = \"text-align: left;\">0.12605</td></tr><tr><td class = \"rowNumber\" style = \"font-weight: bold; text-align: right;\">4</td><td style = \"text-align: left;\">eval4</td><td style = \"text-align: left;\">Mileage</td><td style = \"text-align: left;\">0.336134</td></tr><tr><td class = \"rowNumber\" style = \"font-weight: bold; text-align: right;\">5</td><td style = \"text-align: left;\">eval5</td><td style = \"text-align: left;\">Mileage</td><td style = \"text-align: left;\">0.0896359</td></tr></tbody></table></div><p>&vellip;</p><div><div style = \"float: left;\"><span>Last Group (5 rows): criteria = &quot;Value&quot;</span></div><div style = \"clear: both;\"></div></div><div class = \"data-frame\" style = \"overflow-x: scroll;\"><table class = \"data-frame\" style = \"margin-bottom: 6px;\"><thead><tr class = \"header\"><th class = \"rowNumber\" style = \"font-weight: bold; text-align: right;\">Row</th><th style = \"text-align: left;\">evaluator</th><th style = \"text-align: left;\">criteria</th><th style = \"text-align: left;\">weight</th></tr><tr class = \"subheader headerLastRow\"><th class = \"rowNumber\" style = \"font-weight: bold; text-align: right;\"></th><th title = \"Any\" style = \"text-align: left;\">Any</th><th title = \"Any\" style = \"text-align: left;\">Any</th><th title = \"Any\" style = \"text-align: left;\">Any</th></tr></thead><tbody><tr><td class = \"rowNumber\" style = \"font-weight: bold; text-align: right;\">1</td><td style = \"text-align: left;\">eval1</td><td style = \"text-align: left;\">Value</td><td style = \"text-align: left;\">0.0560224</td></tr><tr><td class = \"rowNumber\" style = \"font-weight: bold; text-align: right;\">2</td><td style = \"text-align: left;\">eval2</td><td style = \"text-align: left;\">Value</td><td style = \"text-align: left;\">0.0896359</td></tr><tr><td class = \"rowNumber\" style = \"font-weight: bold; text-align: right;\">3</td><td style = \"text-align: left;\">eval3</td><td style = \"text-align: left;\">Value</td><td style = \"text-align: left;\">0.22409</td></tr><tr><td class = \"rowNumber\" style = \"font-weight: bold; text-align: right;\">4</td><td style = \"text-align: left;\">eval4</td><td style = \"text-align: left;\">Value</td><td style = \"text-align: left;\">0.22409</td></tr><tr><td class = \"rowNumber\" style = \"font-weight: bold; text-align: right;\">5</td><td style = \"text-align: left;\">eval5</td><td style = \"text-align: left;\">Value</td><td style = \"text-align: left;\">0.0560224</td></tr></tbody></table></div>"
      ],
      "text/latex": [
       "GroupedDataFrame with 6 groups based on key: criteria\n",
       "\n",
       "First Group (5 rows): criteria = \"Mileage\"\n",
       "\n",
       "\\begin{tabular}{r|ccc}\n",
       "\t& evaluator & criteria & weight\\\\\n",
       "\t\\hline\n",
       "\t& Any & Any & Any\\\\\n",
       "\t\\hline\n",
       "\t1 & eval1 & Mileage & 0.336134 \\\\\n",
       "\t2 & eval2 & Mileage & 0.336134 \\\\\n",
       "\t3 & eval3 & Mileage & 0.12605 \\\\\n",
       "\t4 & eval4 & Mileage & 0.336134 \\\\\n",
       "\t5 & eval5 & Mileage & 0.0896359 \\\\\n",
       "\\end{tabular}\n",
       "\n",
       "$\\dots$\n",
       "\n",
       "Last Group (5 rows): criteria = \"Value\"\n",
       "\n",
       "\\begin{tabular}{r|ccc}\n",
       "\t& evaluator & criteria & weight\\\\\n",
       "\t\\hline\n",
       "\t& Any & Any & Any\\\\\n",
       "\t\\hline\n",
       "\t1 & eval1 & Value & 0.0560224 \\\\\n",
       "\t2 & eval2 & Value & 0.0896359 \\\\\n",
       "\t3 & eval3 & Value & 0.22409 \\\\\n",
       "\t4 & eval4 & Value & 0.22409 \\\\\n",
       "\t5 & eval5 & Value & 0.0560224 \\\\\n",
       "\\end{tabular}\n"
      ],
      "text/plain": [
       "GroupedDataFrame with 6 groups based on key: criteria\n",
       "First Group (5 rows): criteria = \"Mileage\"\n",
       "\u001b[1m Row \u001b[0m│\u001b[1m evaluator \u001b[0m\u001b[1m criteria \u001b[0m\u001b[1m weight    \u001b[0m\n",
       "     │\u001b[90m Any       \u001b[0m\u001b[90m Any      \u001b[0m\u001b[90m Any       \u001b[0m\n",
       "─────┼────────────────────────────────\n",
       "   1 │ eval1      Mileage   0.336134\n",
       "   2 │ eval2      Mileage   0.336134\n",
       "   3 │ eval3      Mileage   0.12605\n",
       "   4 │ eval4      Mileage   0.336134\n",
       "   5 │ eval5      Mileage   0.0896359\n",
       "⋮\n",
       "Last Group (5 rows): criteria = \"Value\"\n",
       "\u001b[1m Row \u001b[0m│\u001b[1m evaluator \u001b[0m\u001b[1m criteria \u001b[0m\u001b[1m weight    \u001b[0m\n",
       "     │\u001b[90m Any       \u001b[0m\u001b[90m Any      \u001b[0m\u001b[90m Any       \u001b[0m\n",
       "─────┼────────────────────────────────\n",
       "   1 │ eval1      Value     0.0560224\n",
       "   2 │ eval2      Value     0.0896359\n",
       "   3 │ eval3      Value     0.22409\n",
       "   4 │ eval4      Value     0.22409\n",
       "   5 │ eval5      Value     0.0560224"
      ]
     },
     "execution_count": 24,
     "metadata": {},
     "output_type": "execute_result"
    }
   ],
   "source": [
    "gdf = groupby(df, :criteria)"
   ]
  },
  {
   "cell_type": "code",
   "execution_count": 25,
   "id": "c54328ca-c2be-41cf-ac40-3aca20b51931",
   "metadata": {},
   "outputs": [
    {
     "data": {
      "text/html": [
       "<div><div style = \"float: left;\"><span>6×2 DataFrame</span></div><div style = \"clear: both;\"></div></div><div class = \"data-frame\" style = \"overflow-x: scroll;\"><table class = \"data-frame\" style = \"margin-bottom: 6px;\"><thead><tr class = \"header\"><th class = \"rowNumber\" style = \"font-weight: bold; text-align: right;\">Row</th><th style = \"text-align: left;\">criteria</th><th style = \"text-align: left;\">weight_mean</th></tr><tr class = \"subheader headerLastRow\"><th class = \"rowNumber\" style = \"font-weight: bold; text-align: right;\"></th><th title = \"Any\" style = \"text-align: left;\">Any</th><th title = \"Float64\" style = \"text-align: left;\">Float64</th></tr></thead><tbody><tr><td class = \"rowNumber\" style = \"font-weight: bold; text-align: right;\">1</td><td style = \"text-align: left;\">Mileage</td><td style = \"text-align: right;\">0.244818</td></tr><tr><td class = \"rowNumber\" style = \"font-weight: bold; text-align: right;\">2</td><td style = \"text-align: left;\">Color</td><td style = \"text-align: right;\">0.22409</td></tr><tr><td class = \"rowNumber\" style = \"font-weight: bold; text-align: right;\">3</td><td style = \"text-align: left;\">Safety</td><td style = \"text-align: right;\">0.162465</td></tr><tr><td class = \"rowNumber\" style = \"font-weight: bold; text-align: right;\">4</td><td style = \"text-align: left;\">Price</td><td style = \"text-align: right;\">0.134454</td></tr><tr><td class = \"rowNumber\" style = \"font-weight: bold; text-align: right;\">5</td><td style = \"text-align: left;\">Value</td><td style = \"text-align: right;\">0.129972</td></tr><tr><td class = \"rowNumber\" style = \"font-weight: bold; text-align: right;\">6</td><td style = \"text-align: left;\">Reliability</td><td style = \"text-align: right;\">0.104202</td></tr></tbody></table></div>"
      ],
      "text/latex": [
       "\\begin{tabular}{r|cc}\n",
       "\t& criteria & weight\\_mean\\\\\n",
       "\t\\hline\n",
       "\t& Any & Float64\\\\\n",
       "\t\\hline\n",
       "\t1 & Mileage & 0.244818 \\\\\n",
       "\t2 & Color & 0.22409 \\\\\n",
       "\t3 & Safety & 0.162465 \\\\\n",
       "\t4 & Price & 0.134454 \\\\\n",
       "\t5 & Value & 0.129972 \\\\\n",
       "\t6 & Reliability & 0.104202 \\\\\n",
       "\\end{tabular}\n"
      ],
      "text/plain": [
       "\u001b[1m6×2 DataFrame\u001b[0m\n",
       "\u001b[1m Row \u001b[0m│\u001b[1m criteria    \u001b[0m\u001b[1m weight_mean \u001b[0m\n",
       "     │\u001b[90m Any         \u001b[0m\u001b[90m Float64     \u001b[0m\n",
       "─────┼──────────────────────────\n",
       "   1 │ Mileage         0.244818\n",
       "   2 │ Color           0.22409\n",
       "   3 │ Safety          0.162465\n",
       "   4 │ Price           0.134454\n",
       "   5 │ Value           0.129972\n",
       "   6 │ Reliability     0.104202"
      ]
     },
     "execution_count": 25,
     "metadata": {},
     "output_type": "execute_result"
    }
   ],
   "source": [
    "## combine and apply \n",
    "crit_weights = combine(gdf, :weight => mean)\n",
    "sort!(crit_weights, :weight_mean, rev = true)"
   ]
  },
  {
   "cell_type": "markdown",
   "id": "985b9a48-52a4-4ca1-a205-e5a0c8a6b83e",
   "metadata": {},
   "source": [
    "These are the final criteria weights and, as expected, they sum to 1."
   ]
  },
  {
   "cell_type": "code",
   "execution_count": 26,
   "id": "d62d011a-4a06-4349-a201-94b70664a892",
   "metadata": {},
   "outputs": [
    {
     "data": {
      "text/plain": [
       "1.0"
      ]
     },
     "execution_count": 26,
     "metadata": {},
     "output_type": "execute_result"
    }
   ],
   "source": [
    "round(sum(crit_weights.weight_mean))"
   ]
  },
  {
   "cell_type": "markdown",
   "id": "efb5a677-3c83-4681-8595-6dc9bb63bd7e",
   "metadata": {},
   "source": [
    "## Appendix\n",
    "\n",
    "### Function to automate calculating mean weights\n",
    "\n",
    "We created the `calculate_rank_weights` function to calculate the\n",
    " weights for $n$ criteria using the SR method. Then we used Julia to\n",
    " calculate the mean weights for five evaluators.\n",
    "\n",
    "Now we create a final function to automate calculating the mean\n",
    "weights. This function will handle an arbitrary number of vectors with\n",
    "rankings, or a matrix created from those vectors beforehand. Notice\n",
    "that this new function will call our previous `calculate_rank_weights`\n",
    "function."
   ]
  },
  {
   "cell_type": "code",
   "execution_count": 27,
   "id": "ce6c9bd7-2417-4308-ae09-d8b5bba220e7",
   "metadata": {},
   "outputs": [
    {
     "data": {
      "text/plain": [
       "calculate_mean_weights (generic function with 1 method)"
      ]
     },
     "execution_count": 27,
     "metadata": {},
     "output_type": "execute_result"
    }
   ],
   "source": [
    "function calculate_mean_weights(x...)\n",
    "    x = hcat(x...)\n",
    "    ncrit, neval = size(x, 1), size(x, 2)\n",
    "    wts_i = calculate_rank_weights(ncrit)\n",
    "    weights = repeat( wts_i, neval )\n",
    "    evaluators = repeat( \n",
    "        [\"eval\" .* string.(1:neval)...], \n",
    "        inner = repeat([ncrit])\n",
    "    )\n",
    "    evalvator_rankings = reshape(x, ncrit * neval)\n",
    "    df = DataFrame( \n",
    "        hcat(evaluators, evaluator_rankings, weights), \n",
    "        [\"evaluator\", \"criteria\", \"weight\"] \n",
    "    )\n",
    "    gdf = groupby(df, :criteria)\n",
    "    mean_wts = sort!(\n",
    "        combine(gdf, :weight => mean), \n",
    "        :weight_mean, rev = true\n",
    "    ) \n",
    "    return (\n",
    "        weights = mean_wts,\n",
    "        data = df\n",
    "    )\n",
    "end"
   ]
  },
  {
   "cell_type": "markdown",
   "id": "f138cba4-7d08-4276-a589-19dbc4467e8f",
   "metadata": {},
   "source": [
    "Here we test passing vectors as arguments to the\n",
    "`calculate_mean_weights` function."
   ]
  },
  {
   "cell_type": "code",
   "execution_count": 28,
   "id": "8fd04c60-286d-44f5-8099-486580983d65",
   "metadata": {},
   "outputs": [],
   "source": [
    "r1 = calculate_mean_weights(eval1, eval2, eval3, eval4, eval5);"
   ]
  },
  {
   "cell_type": "markdown",
   "id": "54449fdb-7f3f-4753-9093-797113311752",
   "metadata": {},
   "source": [
    "The results are saved in `r1` and the semi-colon (`;`) suppresses the\n",
    "output. We use typeof function to evaluate the type of `r1`."
   ]
  },
  {
   "cell_type": "code",
   "execution_count": 29,
   "id": "b61fc79c-459d-4478-876a-a4dfa5439d90",
   "metadata": {},
   "outputs": [
    {
     "data": {
      "text/plain": [
       "@NamedTuple{weights::DataFrame, data::DataFrame}"
      ]
     },
     "execution_count": 29,
     "metadata": {},
     "output_type": "execute_result"
    }
   ],
   "source": [
    "typeof(r1)"
   ]
  },
  {
   "cell_type": "markdown",
   "id": "11fb0f6b-c291-49f5-a85b-41a598e52349",
   "metadata": {},
   "source": [
    "We see that `r1` is a NamedTuple and it contains two data frames named\n",
    "weights and data. We can index each separately."
   ]
  },
  {
   "cell_type": "code",
   "execution_count": 30,
   "id": "406e7f49-f28f-4c8b-8ab6-e74b2c25ed49",
   "metadata": {},
   "outputs": [
    {
     "data": {
      "text/html": [
       "<div><div style = \"float: left;\"><span>6×2 DataFrame</span></div><div style = \"clear: both;\"></div></div><div class = \"data-frame\" style = \"overflow-x: scroll;\"><table class = \"data-frame\" style = \"margin-bottom: 6px;\"><thead><tr class = \"header\"><th class = \"rowNumber\" style = \"font-weight: bold; text-align: right;\">Row</th><th style = \"text-align: left;\">criteria</th><th style = \"text-align: left;\">weight_mean</th></tr><tr class = \"subheader headerLastRow\"><th class = \"rowNumber\" style = \"font-weight: bold; text-align: right;\"></th><th title = \"Any\" style = \"text-align: left;\">Any</th><th title = \"Float64\" style = \"text-align: left;\">Float64</th></tr></thead><tbody><tr><td class = \"rowNumber\" style = \"font-weight: bold; text-align: right;\">1</td><td style = \"text-align: left;\">Mileage</td><td style = \"text-align: right;\">0.244818</td></tr><tr><td class = \"rowNumber\" style = \"font-weight: bold; text-align: right;\">2</td><td style = \"text-align: left;\">Color</td><td style = \"text-align: right;\">0.22409</td></tr><tr><td class = \"rowNumber\" style = \"font-weight: bold; text-align: right;\">3</td><td style = \"text-align: left;\">Safety</td><td style = \"text-align: right;\">0.162465</td></tr><tr><td class = \"rowNumber\" style = \"font-weight: bold; text-align: right;\">4</td><td style = \"text-align: left;\">Price</td><td style = \"text-align: right;\">0.134454</td></tr><tr><td class = \"rowNumber\" style = \"font-weight: bold; text-align: right;\">5</td><td style = \"text-align: left;\">Value</td><td style = \"text-align: right;\">0.129972</td></tr><tr><td class = \"rowNumber\" style = \"font-weight: bold; text-align: right;\">6</td><td style = \"text-align: left;\">Reliability</td><td style = \"text-align: right;\">0.104202</td></tr></tbody></table></div>"
      ],
      "text/latex": [
       "\\begin{tabular}{r|cc}\n",
       "\t& criteria & weight\\_mean\\\\\n",
       "\t\\hline\n",
       "\t& Any & Float64\\\\\n",
       "\t\\hline\n",
       "\t1 & Mileage & 0.244818 \\\\\n",
       "\t2 & Color & 0.22409 \\\\\n",
       "\t3 & Safety & 0.162465 \\\\\n",
       "\t4 & Price & 0.134454 \\\\\n",
       "\t5 & Value & 0.129972 \\\\\n",
       "\t6 & Reliability & 0.104202 \\\\\n",
       "\\end{tabular}\n"
      ],
      "text/plain": [
       "\u001b[1m6×2 DataFrame\u001b[0m\n",
       "\u001b[1m Row \u001b[0m│\u001b[1m criteria    \u001b[0m\u001b[1m weight_mean \u001b[0m\n",
       "     │\u001b[90m Any         \u001b[0m\u001b[90m Float64     \u001b[0m\n",
       "─────┼──────────────────────────\n",
       "   1 │ Mileage         0.244818\n",
       "   2 │ Color           0.22409\n",
       "   3 │ Safety          0.162465\n",
       "   4 │ Price           0.134454\n",
       "   5 │ Value           0.129972\n",
       "   6 │ Reliability     0.104202"
      ]
     },
     "execution_count": 30,
     "metadata": {},
     "output_type": "execute_result"
    }
   ],
   "source": [
    "r1.weights"
   ]
  },
  {
   "cell_type": "code",
   "execution_count": 31,
   "id": "0d15eb8b-0301-40a2-b628-a49fe928aa33",
   "metadata": {},
   "outputs": [
    {
     "data": {
      "text/html": [
       "<div><div style = \"float: left;\"><span>30×3 DataFrame</span></div><div style = \"float: right;\"><span style = \"font-style: italic;\">5 rows omitted</span></div><div style = \"clear: both;\"></div></div><div class = \"data-frame\" style = \"overflow-x: scroll;\"><table class = \"data-frame\" style = \"margin-bottom: 6px;\"><thead><tr class = \"header\"><th class = \"rowNumber\" style = \"font-weight: bold; text-align: right;\">Row</th><th style = \"text-align: left;\">evaluator</th><th style = \"text-align: left;\">criteria</th><th style = \"text-align: left;\">weight</th></tr><tr class = \"subheader headerLastRow\"><th class = \"rowNumber\" style = \"font-weight: bold; text-align: right;\"></th><th title = \"Any\" style = \"text-align: left;\">Any</th><th title = \"Any\" style = \"text-align: left;\">Any</th><th title = \"Any\" style = \"text-align: left;\">Any</th></tr></thead><tbody><tr><td class = \"rowNumber\" style = \"font-weight: bold; text-align: right;\">1</td><td style = \"text-align: left;\">eval1</td><td style = \"text-align: left;\">Mileage</td><td style = \"text-align: left;\">0.336134</td></tr><tr><td class = \"rowNumber\" style = \"font-weight: bold; text-align: right;\">2</td><td style = \"text-align: left;\">eval1</td><td style = \"text-align: left;\">Color</td><td style = \"text-align: left;\">0.22409</td></tr><tr><td class = \"rowNumber\" style = \"font-weight: bold; text-align: right;\">3</td><td style = \"text-align: left;\">eval1</td><td style = \"text-align: left;\">Price</td><td style = \"text-align: left;\">0.168067</td></tr><tr><td class = \"rowNumber\" style = \"font-weight: bold; text-align: right;\">4</td><td style = \"text-align: left;\">eval1</td><td style = \"text-align: left;\">Safety</td><td style = \"text-align: left;\">0.12605</td></tr><tr><td class = \"rowNumber\" style = \"font-weight: bold; text-align: right;\">5</td><td style = \"text-align: left;\">eval1</td><td style = \"text-align: left;\">Reliability</td><td style = \"text-align: left;\">0.0896359</td></tr><tr><td class = \"rowNumber\" style = \"font-weight: bold; text-align: right;\">6</td><td style = \"text-align: left;\">eval1</td><td style = \"text-align: left;\">Value</td><td style = \"text-align: left;\">0.0560224</td></tr><tr><td class = \"rowNumber\" style = \"font-weight: bold; text-align: right;\">7</td><td style = \"text-align: left;\">eval2</td><td style = \"text-align: left;\">Mileage</td><td style = \"text-align: left;\">0.336134</td></tr><tr><td class = \"rowNumber\" style = \"font-weight: bold; text-align: right;\">8</td><td style = \"text-align: left;\">eval2</td><td style = \"text-align: left;\">Color</td><td style = \"text-align: left;\">0.22409</td></tr><tr><td class = \"rowNumber\" style = \"font-weight: bold; text-align: right;\">9</td><td style = \"text-align: left;\">eval2</td><td style = \"text-align: left;\">Safety</td><td style = \"text-align: left;\">0.168067</td></tr><tr><td class = \"rowNumber\" style = \"font-weight: bold; text-align: right;\">10</td><td style = \"text-align: left;\">eval2</td><td style = \"text-align: left;\">Reliability</td><td style = \"text-align: left;\">0.12605</td></tr><tr><td class = \"rowNumber\" style = \"font-weight: bold; text-align: right;\">11</td><td style = \"text-align: left;\">eval2</td><td style = \"text-align: left;\">Value</td><td style = \"text-align: left;\">0.0896359</td></tr><tr><td class = \"rowNumber\" style = \"font-weight: bold; text-align: right;\">12</td><td style = \"text-align: left;\">eval2</td><td style = \"text-align: left;\">Price</td><td style = \"text-align: left;\">0.0560224</td></tr><tr><td class = \"rowNumber\" style = \"font-weight: bold; text-align: right;\">13</td><td style = \"text-align: left;\">eval3</td><td style = \"text-align: left;\">Color</td><td style = \"text-align: left;\">0.336134</td></tr><tr><td style = \"text-align: right;\">&vellip;</td><td style = \"text-align: right;\">&vellip;</td><td style = \"text-align: right;\">&vellip;</td><td style = \"text-align: right;\">&vellip;</td></tr><tr><td class = \"rowNumber\" style = \"font-weight: bold; text-align: right;\">19</td><td style = \"text-align: left;\">eval4</td><td style = \"text-align: left;\">Mileage</td><td style = \"text-align: left;\">0.336134</td></tr><tr><td class = \"rowNumber\" style = \"font-weight: bold; text-align: right;\">20</td><td style = \"text-align: left;\">eval4</td><td style = \"text-align: left;\">Value</td><td style = \"text-align: left;\">0.22409</td></tr><tr><td class = \"rowNumber\" style = \"font-weight: bold; text-align: right;\">21</td><td style = \"text-align: left;\">eval4</td><td style = \"text-align: left;\">Color</td><td style = \"text-align: left;\">0.168067</td></tr><tr><td class = \"rowNumber\" style = \"font-weight: bold; text-align: right;\">22</td><td style = \"text-align: left;\">eval4</td><td style = \"text-align: left;\">Safety</td><td style = \"text-align: left;\">0.12605</td></tr><tr><td class = \"rowNumber\" style = \"font-weight: bold; text-align: right;\">23</td><td style = \"text-align: left;\">eval4</td><td style = \"text-align: left;\">Reliability</td><td style = \"text-align: left;\">0.0896359</td></tr><tr><td class = \"rowNumber\" style = \"font-weight: bold; text-align: right;\">24</td><td style = \"text-align: left;\">eval4</td><td style = \"text-align: left;\">Price</td><td style = \"text-align: left;\">0.0560224</td></tr><tr><td class = \"rowNumber\" style = \"font-weight: bold; text-align: right;\">25</td><td style = \"text-align: left;\">eval5</td><td style = \"text-align: left;\">Safety</td><td style = \"text-align: left;\">0.336134</td></tr><tr><td class = \"rowNumber\" style = \"font-weight: bold; text-align: right;\">26</td><td style = \"text-align: left;\">eval5</td><td style = \"text-align: left;\">Price</td><td style = \"text-align: left;\">0.22409</td></tr><tr><td class = \"rowNumber\" style = \"font-weight: bold; text-align: right;\">27</td><td style = \"text-align: left;\">eval5</td><td style = \"text-align: left;\">Color</td><td style = \"text-align: left;\">0.168067</td></tr><tr><td class = \"rowNumber\" style = \"font-weight: bold; text-align: right;\">28</td><td style = \"text-align: left;\">eval5</td><td style = \"text-align: left;\">Reliability</td><td style = \"text-align: left;\">0.12605</td></tr><tr><td class = \"rowNumber\" style = \"font-weight: bold; text-align: right;\">29</td><td style = \"text-align: left;\">eval5</td><td style = \"text-align: left;\">Mileage</td><td style = \"text-align: left;\">0.0896359</td></tr><tr><td class = \"rowNumber\" style = \"font-weight: bold; text-align: right;\">30</td><td style = \"text-align: left;\">eval5</td><td style = \"text-align: left;\">Value</td><td style = \"text-align: left;\">0.0560224</td></tr></tbody></table></div>"
      ],
      "text/latex": [
       "\\begin{tabular}{r|ccc}\n",
       "\t& evaluator & criteria & weight\\\\\n",
       "\t\\hline\n",
       "\t& Any & Any & Any\\\\\n",
       "\t\\hline\n",
       "\t1 & eval1 & Mileage & 0.336134 \\\\\n",
       "\t2 & eval1 & Color & 0.22409 \\\\\n",
       "\t3 & eval1 & Price & 0.168067 \\\\\n",
       "\t4 & eval1 & Safety & 0.12605 \\\\\n",
       "\t5 & eval1 & Reliability & 0.0896359 \\\\\n",
       "\t6 & eval1 & Value & 0.0560224 \\\\\n",
       "\t7 & eval2 & Mileage & 0.336134 \\\\\n",
       "\t8 & eval2 & Color & 0.22409 \\\\\n",
       "\t9 & eval2 & Safety & 0.168067 \\\\\n",
       "\t10 & eval2 & Reliability & 0.12605 \\\\\n",
       "\t11 & eval2 & Value & 0.0896359 \\\\\n",
       "\t12 & eval2 & Price & 0.0560224 \\\\\n",
       "\t13 & eval3 & Color & 0.336134 \\\\\n",
       "\t14 & eval3 & Value & 0.22409 \\\\\n",
       "\t15 & eval3 & Price & 0.168067 \\\\\n",
       "\t16 & eval3 & Mileage & 0.12605 \\\\\n",
       "\t17 & eval3 & Reliability & 0.0896359 \\\\\n",
       "\t18 & eval3 & Safety & 0.0560224 \\\\\n",
       "\t19 & eval4 & Mileage & 0.336134 \\\\\n",
       "\t20 & eval4 & Value & 0.22409 \\\\\n",
       "\t21 & eval4 & Color & 0.168067 \\\\\n",
       "\t22 & eval4 & Safety & 0.12605 \\\\\n",
       "\t23 & eval4 & Reliability & 0.0896359 \\\\\n",
       "\t24 & eval4 & Price & 0.0560224 \\\\\n",
       "\t25 & eval5 & Safety & 0.336134 \\\\\n",
       "\t26 & eval5 & Price & 0.22409 \\\\\n",
       "\t27 & eval5 & Color & 0.168067 \\\\\n",
       "\t28 & eval5 & Reliability & 0.12605 \\\\\n",
       "\t29 & eval5 & Mileage & 0.0896359 \\\\\n",
       "\t30 & eval5 & Value & 0.0560224 \\\\\n",
       "\\end{tabular}\n"
      ],
      "text/plain": [
       "\u001b[1m30×3 DataFrame\u001b[0m\n",
       "\u001b[1m Row \u001b[0m│\u001b[1m evaluator \u001b[0m\u001b[1m criteria    \u001b[0m\u001b[1m weight    \u001b[0m\n",
       "     │\u001b[90m Any       \u001b[0m\u001b[90m Any         \u001b[0m\u001b[90m Any       \u001b[0m\n",
       "─────┼───────────────────────────────────\n",
       "   1 │ eval1      Mileage      0.336134\n",
       "   2 │ eval1      Color        0.22409\n",
       "   3 │ eval1      Price        0.168067\n",
       "   4 │ eval1      Safety       0.12605\n",
       "   5 │ eval1      Reliability  0.0896359\n",
       "   6 │ eval1      Value        0.0560224\n",
       "   7 │ eval2      Mileage      0.336134\n",
       "   8 │ eval2      Color        0.22409\n",
       "   9 │ eval2      Safety       0.168067\n",
       "  10 │ eval2      Reliability  0.12605\n",
       "  11 │ eval2      Value        0.0896359\n",
       "  ⋮  │     ⋮           ⋮           ⋮\n",
       "  21 │ eval4      Color        0.168067\n",
       "  22 │ eval4      Safety       0.12605\n",
       "  23 │ eval4      Reliability  0.0896359\n",
       "  24 │ eval4      Price        0.0560224\n",
       "  25 │ eval5      Safety       0.336134\n",
       "  26 │ eval5      Price        0.22409\n",
       "  27 │ eval5      Color        0.168067\n",
       "  28 │ eval5      Reliability  0.12605\n",
       "  29 │ eval5      Mileage      0.0896359\n",
       "  30 │ eval5      Value        0.0560224\n",
       "\u001b[36m                           9 rows omitted\u001b[0m"
      ]
     },
     "execution_count": 31,
     "metadata": {},
     "output_type": "execute_result"
    }
   ],
   "source": [
    "r1.data"
   ]
  },
  {
   "cell_type": "markdown",
   "id": "869e03f0-3c76-4991-875f-8b453d50096b",
   "metadata": {},
   "source": [
    "Next, we create the matrix of evaluator data and then pass it to the\n",
    "`calculate_mean_weights` function."
   ]
  },
  {
   "cell_type": "code",
   "execution_count": 32,
   "id": "d6259b0f-89a3-4417-be5e-23232ed5c779",
   "metadata": {},
   "outputs": [],
   "source": [
    "eval_rankings_tab = hcat(eval1, eval2, eval3, eval4, eval5)\n",
    "r2 = calculate_mean_weights(eval_rankings_tab);"
   ]
  },
  {
   "cell_type": "markdown",
   "id": "96523f90-10ab-4d45-a44d-bea91c3e0c0d",
   "metadata": {},
   "source": [
    "The results are saved in `r2` and the semi-colon (`;`) suppresses the\n",
    "output. We use typeof function to evaluate the type of `r2`."
   ]
  },
  {
   "cell_type": "code",
   "execution_count": 33,
   "id": "fa5b33c0-2cf8-4877-86ec-cf2a9ebf6a6e",
   "metadata": {},
   "outputs": [
    {
     "data": {
      "text/plain": [
       "@NamedTuple{weights::DataFrame, data::DataFrame}"
      ]
     },
     "execution_count": 33,
     "metadata": {},
     "output_type": "execute_result"
    }
   ],
   "source": [
    "typeof(r2)"
   ]
  },
  {
   "cell_type": "markdown",
   "id": "d816131f-0017-46a0-8f02-baddca35fd22",
   "metadata": {},
   "source": [
    "We see that `r2` is a NamedTuple and it contains two data frames named\n",
    "`weights` and `data`. We can index each separately."
   ]
  },
  {
   "cell_type": "code",
   "execution_count": 34,
   "id": "f2248466-67d5-4ff3-bd0d-a508b77cba5a",
   "metadata": {},
   "outputs": [
    {
     "data": {
      "text/html": [
       "<div><div style = \"float: left;\"><span>6×2 DataFrame</span></div><div style = \"clear: both;\"></div></div><div class = \"data-frame\" style = \"overflow-x: scroll;\"><table class = \"data-frame\" style = \"margin-bottom: 6px;\"><thead><tr class = \"header\"><th class = \"rowNumber\" style = \"font-weight: bold; text-align: right;\">Row</th><th style = \"text-align: left;\">criteria</th><th style = \"text-align: left;\">weight_mean</th></tr><tr class = \"subheader headerLastRow\"><th class = \"rowNumber\" style = \"font-weight: bold; text-align: right;\"></th><th title = \"Any\" style = \"text-align: left;\">Any</th><th title = \"Float64\" style = \"text-align: left;\">Float64</th></tr></thead><tbody><tr><td class = \"rowNumber\" style = \"font-weight: bold; text-align: right;\">1</td><td style = \"text-align: left;\">Mileage</td><td style = \"text-align: right;\">0.244818</td></tr><tr><td class = \"rowNumber\" style = \"font-weight: bold; text-align: right;\">2</td><td style = \"text-align: left;\">Color</td><td style = \"text-align: right;\">0.22409</td></tr><tr><td class = \"rowNumber\" style = \"font-weight: bold; text-align: right;\">3</td><td style = \"text-align: left;\">Safety</td><td style = \"text-align: right;\">0.162465</td></tr><tr><td class = \"rowNumber\" style = \"font-weight: bold; text-align: right;\">4</td><td style = \"text-align: left;\">Price</td><td style = \"text-align: right;\">0.134454</td></tr><tr><td class = \"rowNumber\" style = \"font-weight: bold; text-align: right;\">5</td><td style = \"text-align: left;\">Value</td><td style = \"text-align: right;\">0.129972</td></tr><tr><td class = \"rowNumber\" style = \"font-weight: bold; text-align: right;\">6</td><td style = \"text-align: left;\">Reliability</td><td style = \"text-align: right;\">0.104202</td></tr></tbody></table></div>"
      ],
      "text/latex": [
       "\\begin{tabular}{r|cc}\n",
       "\t& criteria & weight\\_mean\\\\\n",
       "\t\\hline\n",
       "\t& Any & Float64\\\\\n",
       "\t\\hline\n",
       "\t1 & Mileage & 0.244818 \\\\\n",
       "\t2 & Color & 0.22409 \\\\\n",
       "\t3 & Safety & 0.162465 \\\\\n",
       "\t4 & Price & 0.134454 \\\\\n",
       "\t5 & Value & 0.129972 \\\\\n",
       "\t6 & Reliability & 0.104202 \\\\\n",
       "\\end{tabular}\n"
      ],
      "text/plain": [
       "\u001b[1m6×2 DataFrame\u001b[0m\n",
       "\u001b[1m Row \u001b[0m│\u001b[1m criteria    \u001b[0m\u001b[1m weight_mean \u001b[0m\n",
       "     │\u001b[90m Any         \u001b[0m\u001b[90m Float64     \u001b[0m\n",
       "─────┼──────────────────────────\n",
       "   1 │ Mileage         0.244818\n",
       "   2 │ Color           0.22409\n",
       "   3 │ Safety          0.162465\n",
       "   4 │ Price           0.134454\n",
       "   5 │ Value           0.129972\n",
       "   6 │ Reliability     0.104202"
      ]
     },
     "execution_count": 34,
     "metadata": {},
     "output_type": "execute_result"
    }
   ],
   "source": [
    "r2.weights"
   ]
  },
  {
   "cell_type": "code",
   "execution_count": 35,
   "id": "84647d31-4866-4e33-a07a-d780cf71285f",
   "metadata": {},
   "outputs": [
    {
     "data": {
      "text/html": [
       "<div><div style = \"float: left;\"><span>30×3 DataFrame</span></div><div style = \"float: right;\"><span style = \"font-style: italic;\">5 rows omitted</span></div><div style = \"clear: both;\"></div></div><div class = \"data-frame\" style = \"overflow-x: scroll;\"><table class = \"data-frame\" style = \"margin-bottom: 6px;\"><thead><tr class = \"header\"><th class = \"rowNumber\" style = \"font-weight: bold; text-align: right;\">Row</th><th style = \"text-align: left;\">evaluator</th><th style = \"text-align: left;\">criteria</th><th style = \"text-align: left;\">weight</th></tr><tr class = \"subheader headerLastRow\"><th class = \"rowNumber\" style = \"font-weight: bold; text-align: right;\"></th><th title = \"Any\" style = \"text-align: left;\">Any</th><th title = \"Any\" style = \"text-align: left;\">Any</th><th title = \"Any\" style = \"text-align: left;\">Any</th></tr></thead><tbody><tr><td class = \"rowNumber\" style = \"font-weight: bold; text-align: right;\">1</td><td style = \"text-align: left;\">eval1</td><td style = \"text-align: left;\">Mileage</td><td style = \"text-align: left;\">0.336134</td></tr><tr><td class = \"rowNumber\" style = \"font-weight: bold; text-align: right;\">2</td><td style = \"text-align: left;\">eval1</td><td style = \"text-align: left;\">Color</td><td style = \"text-align: left;\">0.22409</td></tr><tr><td class = \"rowNumber\" style = \"font-weight: bold; text-align: right;\">3</td><td style = \"text-align: left;\">eval1</td><td style = \"text-align: left;\">Price</td><td style = \"text-align: left;\">0.168067</td></tr><tr><td class = \"rowNumber\" style = \"font-weight: bold; text-align: right;\">4</td><td style = \"text-align: left;\">eval1</td><td style = \"text-align: left;\">Safety</td><td style = \"text-align: left;\">0.12605</td></tr><tr><td class = \"rowNumber\" style = \"font-weight: bold; text-align: right;\">5</td><td style = \"text-align: left;\">eval1</td><td style = \"text-align: left;\">Reliability</td><td style = \"text-align: left;\">0.0896359</td></tr><tr><td class = \"rowNumber\" style = \"font-weight: bold; text-align: right;\">6</td><td style = \"text-align: left;\">eval1</td><td style = \"text-align: left;\">Value</td><td style = \"text-align: left;\">0.0560224</td></tr><tr><td class = \"rowNumber\" style = \"font-weight: bold; text-align: right;\">7</td><td style = \"text-align: left;\">eval2</td><td style = \"text-align: left;\">Mileage</td><td style = \"text-align: left;\">0.336134</td></tr><tr><td class = \"rowNumber\" style = \"font-weight: bold; text-align: right;\">8</td><td style = \"text-align: left;\">eval2</td><td style = \"text-align: left;\">Color</td><td style = \"text-align: left;\">0.22409</td></tr><tr><td class = \"rowNumber\" style = \"font-weight: bold; text-align: right;\">9</td><td style = \"text-align: left;\">eval2</td><td style = \"text-align: left;\">Safety</td><td style = \"text-align: left;\">0.168067</td></tr><tr><td class = \"rowNumber\" style = \"font-weight: bold; text-align: right;\">10</td><td style = \"text-align: left;\">eval2</td><td style = \"text-align: left;\">Reliability</td><td style = \"text-align: left;\">0.12605</td></tr><tr><td class = \"rowNumber\" style = \"font-weight: bold; text-align: right;\">11</td><td style = \"text-align: left;\">eval2</td><td style = \"text-align: left;\">Value</td><td style = \"text-align: left;\">0.0896359</td></tr><tr><td class = \"rowNumber\" style = \"font-weight: bold; text-align: right;\">12</td><td style = \"text-align: left;\">eval2</td><td style = \"text-align: left;\">Price</td><td style = \"text-align: left;\">0.0560224</td></tr><tr><td class = \"rowNumber\" style = \"font-weight: bold; text-align: right;\">13</td><td style = \"text-align: left;\">eval3</td><td style = \"text-align: left;\">Color</td><td style = \"text-align: left;\">0.336134</td></tr><tr><td style = \"text-align: right;\">&vellip;</td><td style = \"text-align: right;\">&vellip;</td><td style = \"text-align: right;\">&vellip;</td><td style = \"text-align: right;\">&vellip;</td></tr><tr><td class = \"rowNumber\" style = \"font-weight: bold; text-align: right;\">19</td><td style = \"text-align: left;\">eval4</td><td style = \"text-align: left;\">Mileage</td><td style = \"text-align: left;\">0.336134</td></tr><tr><td class = \"rowNumber\" style = \"font-weight: bold; text-align: right;\">20</td><td style = \"text-align: left;\">eval4</td><td style = \"text-align: left;\">Value</td><td style = \"text-align: left;\">0.22409</td></tr><tr><td class = \"rowNumber\" style = \"font-weight: bold; text-align: right;\">21</td><td style = \"text-align: left;\">eval4</td><td style = \"text-align: left;\">Color</td><td style = \"text-align: left;\">0.168067</td></tr><tr><td class = \"rowNumber\" style = \"font-weight: bold; text-align: right;\">22</td><td style = \"text-align: left;\">eval4</td><td style = \"text-align: left;\">Safety</td><td style = \"text-align: left;\">0.12605</td></tr><tr><td class = \"rowNumber\" style = \"font-weight: bold; text-align: right;\">23</td><td style = \"text-align: left;\">eval4</td><td style = \"text-align: left;\">Reliability</td><td style = \"text-align: left;\">0.0896359</td></tr><tr><td class = \"rowNumber\" style = \"font-weight: bold; text-align: right;\">24</td><td style = \"text-align: left;\">eval4</td><td style = \"text-align: left;\">Price</td><td style = \"text-align: left;\">0.0560224</td></tr><tr><td class = \"rowNumber\" style = \"font-weight: bold; text-align: right;\">25</td><td style = \"text-align: left;\">eval5</td><td style = \"text-align: left;\">Safety</td><td style = \"text-align: left;\">0.336134</td></tr><tr><td class = \"rowNumber\" style = \"font-weight: bold; text-align: right;\">26</td><td style = \"text-align: left;\">eval5</td><td style = \"text-align: left;\">Price</td><td style = \"text-align: left;\">0.22409</td></tr><tr><td class = \"rowNumber\" style = \"font-weight: bold; text-align: right;\">27</td><td style = \"text-align: left;\">eval5</td><td style = \"text-align: left;\">Color</td><td style = \"text-align: left;\">0.168067</td></tr><tr><td class = \"rowNumber\" style = \"font-weight: bold; text-align: right;\">28</td><td style = \"text-align: left;\">eval5</td><td style = \"text-align: left;\">Reliability</td><td style = \"text-align: left;\">0.12605</td></tr><tr><td class = \"rowNumber\" style = \"font-weight: bold; text-align: right;\">29</td><td style = \"text-align: left;\">eval5</td><td style = \"text-align: left;\">Mileage</td><td style = \"text-align: left;\">0.0896359</td></tr><tr><td class = \"rowNumber\" style = \"font-weight: bold; text-align: right;\">30</td><td style = \"text-align: left;\">eval5</td><td style = \"text-align: left;\">Value</td><td style = \"text-align: left;\">0.0560224</td></tr></tbody></table></div>"
      ],
      "text/latex": [
       "\\begin{tabular}{r|ccc}\n",
       "\t& evaluator & criteria & weight\\\\\n",
       "\t\\hline\n",
       "\t& Any & Any & Any\\\\\n",
       "\t\\hline\n",
       "\t1 & eval1 & Mileage & 0.336134 \\\\\n",
       "\t2 & eval1 & Color & 0.22409 \\\\\n",
       "\t3 & eval1 & Price & 0.168067 \\\\\n",
       "\t4 & eval1 & Safety & 0.12605 \\\\\n",
       "\t5 & eval1 & Reliability & 0.0896359 \\\\\n",
       "\t6 & eval1 & Value & 0.0560224 \\\\\n",
       "\t7 & eval2 & Mileage & 0.336134 \\\\\n",
       "\t8 & eval2 & Color & 0.22409 \\\\\n",
       "\t9 & eval2 & Safety & 0.168067 \\\\\n",
       "\t10 & eval2 & Reliability & 0.12605 \\\\\n",
       "\t11 & eval2 & Value & 0.0896359 \\\\\n",
       "\t12 & eval2 & Price & 0.0560224 \\\\\n",
       "\t13 & eval3 & Color & 0.336134 \\\\\n",
       "\t14 & eval3 & Value & 0.22409 \\\\\n",
       "\t15 & eval3 & Price & 0.168067 \\\\\n",
       "\t16 & eval3 & Mileage & 0.12605 \\\\\n",
       "\t17 & eval3 & Reliability & 0.0896359 \\\\\n",
       "\t18 & eval3 & Safety & 0.0560224 \\\\\n",
       "\t19 & eval4 & Mileage & 0.336134 \\\\\n",
       "\t20 & eval4 & Value & 0.22409 \\\\\n",
       "\t21 & eval4 & Color & 0.168067 \\\\\n",
       "\t22 & eval4 & Safety & 0.12605 \\\\\n",
       "\t23 & eval4 & Reliability & 0.0896359 \\\\\n",
       "\t24 & eval4 & Price & 0.0560224 \\\\\n",
       "\t25 & eval5 & Safety & 0.336134 \\\\\n",
       "\t26 & eval5 & Price & 0.22409 \\\\\n",
       "\t27 & eval5 & Color & 0.168067 \\\\\n",
       "\t28 & eval5 & Reliability & 0.12605 \\\\\n",
       "\t29 & eval5 & Mileage & 0.0896359 \\\\\n",
       "\t30 & eval5 & Value & 0.0560224 \\\\\n",
       "\\end{tabular}\n"
      ],
      "text/plain": [
       "\u001b[1m30×3 DataFrame\u001b[0m\n",
       "\u001b[1m Row \u001b[0m│\u001b[1m evaluator \u001b[0m\u001b[1m criteria    \u001b[0m\u001b[1m weight    \u001b[0m\n",
       "     │\u001b[90m Any       \u001b[0m\u001b[90m Any         \u001b[0m\u001b[90m Any       \u001b[0m\n",
       "─────┼───────────────────────────────────\n",
       "   1 │ eval1      Mileage      0.336134\n",
       "   2 │ eval1      Color        0.22409\n",
       "   3 │ eval1      Price        0.168067\n",
       "   4 │ eval1      Safety       0.12605\n",
       "   5 │ eval1      Reliability  0.0896359\n",
       "   6 │ eval1      Value        0.0560224\n",
       "   7 │ eval2      Mileage      0.336134\n",
       "   8 │ eval2      Color        0.22409\n",
       "   9 │ eval2      Safety       0.168067\n",
       "  10 │ eval2      Reliability  0.12605\n",
       "  11 │ eval2      Value        0.0896359\n",
       "  ⋮  │     ⋮           ⋮           ⋮\n",
       "  21 │ eval4      Color        0.168067\n",
       "  22 │ eval4      Safety       0.12605\n",
       "  23 │ eval4      Reliability  0.0896359\n",
       "  24 │ eval4      Price        0.0560224\n",
       "  25 │ eval5      Safety       0.336134\n",
       "  26 │ eval5      Price        0.22409\n",
       "  27 │ eval5      Color        0.168067\n",
       "  28 │ eval5      Reliability  0.12605\n",
       "  29 │ eval5      Mileage      0.0896359\n",
       "  30 │ eval5      Value        0.0560224\n",
       "\u001b[36m                           9 rows omitted\u001b[0m"
      ]
     },
     "execution_count": 35,
     "metadata": {},
     "output_type": "execute_result"
    }
   ],
   "source": [
    "r2.data"
   ]
  },
  {
   "cell_type": "markdown",
   "id": "01bf8163-650f-4d04-98be-79fbd8c33b33",
   "metadata": {},
   "source": [
    "The `calculate_mean_weights` function worked for both vectors or a\n",
    "matrix. This was possible because of the splat operator (`...`) as in\n",
    "the two lines below.\n",
    "\n",
    "```\n",
    "function calculate_mean_weights(x...)\n",
    "    x = hcat(x...)\n",
    "```"
   ]
  },
  {
   "cell_type": "code",
   "execution_count": null,
   "id": "0fa06f8b-7ac6-4abd-b1ce-3faf8fffd8b2",
   "metadata": {},
   "outputs": [],
   "source": []
  }
 ],
 "metadata": {
  "kernelspec": {
   "display_name": "Julia 1.11.5",
   "language": "julia",
   "name": "julia-1.11"
  },
  "language_info": {
   "file_extension": ".jl",
   "mimetype": "application/julia",
   "name": "julia",
   "version": "1.11.6"
  }
 },
 "nbformat": 4,
 "nbformat_minor": 5
}
